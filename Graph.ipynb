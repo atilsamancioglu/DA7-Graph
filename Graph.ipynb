{
 "cells": [
  {
   "cell_type": "code",
   "execution_count": 4,
   "metadata": {},
   "outputs": [],
   "source": [
    "class Graph:\n",
    "    \n",
    "    def __init__(self):\n",
    "        self.adjDict = {}\n",
    "\n",
    "    def addVertex(self, vertex):\n",
    "        if vertex not in self.adjDict.keys():\n",
    "            self.adjDict[vertex] = []\n",
    "            return True\n",
    "        return False\n",
    "\n",
    "    def addEdge(self, v1, v2):\n",
    "        if v1 in self.adjDict.keys() and v2 in self.adjDict.keys():\n",
    "            self.adjDict[v1].append(v2)\n",
    "            self.adjDict[v2].append(v1)\n",
    "            return True\n",
    "        return False\n",
    "\n",
    "    def removeEdge(self, v1, v2):\n",
    "        if v1 in self.adjDict.keys() and v2 in self.adjDict.keys():\n",
    "            try:\n",
    "                self.adjDict[v1].remove(v2)\n",
    "                self.adjDict[v2].remove(v1)\n",
    "            except ValueError:\n",
    "                pass\n",
    "            return True\n",
    "        return False\n",
    "\n",
    "    def removeVertex(self, vertex):\n",
    "        if vertex in self.adjDict.keys():\n",
    "            for relatedVertex in self.adjDict[vertex]:\n",
    "                self.adjDict[relatedVertex].remove(vertex)\n",
    "            del self.adjDict[vertex]\n",
    "            return True\n",
    "        return False\n",
    "    \n",
    "    def printGraph(self):\n",
    "        for vertex in self.adjDict:\n",
    "            print(vertex, '->', self.adjDict[vertex])"
   ]
  },
  {
   "cell_type": "code",
   "execution_count": 5,
   "metadata": {},
   "outputs": [
    {
     "name": "stdout",
     "output_type": "stream",
     "text": [
      "IST -> ['AMS', 'CDG', 'JFK']\n",
      "AMS -> ['IST', 'CDG', 'JFK']\n",
      "CDG -> ['IST', 'AMS', 'JFK']\n",
      "JFK -> ['IST', 'AMS', 'CDG']\n"
     ]
    }
   ],
   "source": [
    "myGraph = Graph()\n",
    "myGraph.addVertex('IST')\n",
    "myGraph.addVertex('AMS')\n",
    "myGraph.addVertex('CDG')\n",
    "myGraph.addVertex('JFK')\n",
    "\n",
    "myGraph.addEdge('IST','AMS')\n",
    "myGraph.addEdge('IST','CDG')\n",
    "myGraph.addEdge('IST','JFK')\n",
    "myGraph.addEdge('AMS','CDG')\n",
    "myGraph.addEdge('AMS','JFK')\n",
    "myGraph.addEdge('CDG','JFK')\n",
    "\n",
    "myGraph.printGraph()"
   ]
  },
  {
   "cell_type": "code",
   "execution_count": 6,
   "metadata": {},
   "outputs": [
    {
     "name": "stdout",
     "output_type": "stream",
     "text": [
      "IST -> ['AMS', 'JFK']\n",
      "AMS -> ['IST', 'CDG', 'JFK']\n",
      "CDG -> ['AMS']\n",
      "JFK -> ['IST', 'AMS']\n"
     ]
    }
   ],
   "source": [
    "#myGraph.removeVertex('JFK')\n",
    "myGraph.removeEdge('IST','CDG')\n",
    "myGraph.removeEdge('CDG','JFK')\n",
    "myGraph.printGraph()"
   ]
  },
  {
   "cell_type": "code",
   "execution_count": null,
   "metadata": {},
   "outputs": [],
   "source": []
  }
 ],
 "metadata": {
  "kernelspec": {
   "display_name": "Python 3",
   "language": "python",
   "name": "python3"
  },
  "language_info": {
   "codemirror_mode": {
    "name": "ipython",
    "version": 3
   },
   "file_extension": ".py",
   "mimetype": "text/x-python",
   "name": "python",
   "nbconvert_exporter": "python",
   "pygments_lexer": "ipython3",
   "version": "3.8.5"
  }
 },
 "nbformat": 4,
 "nbformat_minor": 4
}
